{
 "cells": [
  {
   "cell_type": "markdown",
   "id": "db6a0f85-1701-4eb9-88e8-00d2223a6556",
   "metadata": {},
   "source": [
    "# Assignment 1 Part 3\n",
    "## Printing Integers\n",
    "## Without loop\n",
    "\n",
    "print(1, 2, 3, 4, 5, 6, 7, 8, 9, 10)\n",
    "\n"
   ]
  },
  {
   "cell_type": "markdown",
   "id": "bec198cf-9e9b-49dd-9902-9e841eeb1e7d",
   "metadata": {},
   "source": [
    "### With the use of loop\n"
   ]
  },
  {
   "cell_type": "code",
   "execution_count": 7,
   "id": "c6b3bf92-5c44-4bf6-8f0d-c74aeb3fb406",
   "metadata": {},
   "outputs": [
    {
     "name": "stdout",
     "output_type": "stream",
     "text": [
      "1\n",
      "2\n",
      "3\n",
      "4\n",
      "5\n",
      "6\n",
      "7\n",
      "8\n",
      "9\n",
      "10\n"
     ]
    }
   ],
   "source": [
    "for i in range(1, 11):\n",
    "    print(i)"
   ]
  },
  {
   "cell_type": "markdown",
   "id": "fba64292-2b7f-4831-af16-4eb1fe976793",
   "metadata": {},
   "source": []
  }
 ],
 "metadata": {
  "kernelspec": {
   "display_name": "Python 3",
   "language": "python",
   "name": "python3"
  },
  "language_info": {
   "codemirror_mode": {
    "name": "ipython",
    "version": 3
   },
   "file_extension": ".py",
   "mimetype": "text/x-python",
   "name": "python",
   "nbconvert_exporter": "python",
   "pygments_lexer": "ipython3",
   "version": "3.8.8"
  }
 },
 "nbformat": 4,
 "nbformat_minor": 5
}
